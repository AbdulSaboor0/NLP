{
  "nbformat": 4,
  "nbformat_minor": 0,
  "metadata": {
    "colab": {
      "provenance": []
    },
    "kernelspec": {
      "name": "python3",
      "display_name": "Python 3"
    },
    "language_info": {
      "name": "python"
    }
  },
  "cells": [
    {
      "cell_type": "code",
      "execution_count": 84,
      "metadata": {
        "colab": {
          "base_uri": "https://localhost:8080/"
        },
        "id": "-6O01LMaW87p",
        "outputId": "efa38769-812b-4aa3-d5cd-390bf1fe6e59"
      },
      "outputs": [
        {
          "output_type": "stream",
          "name": "stderr",
          "text": [
            "[nltk_data] Downloading package punkt to /root/nltk_data...\n",
            "[nltk_data]   Unzipping tokenizers/punkt.zip.\n"
          ]
        },
        {
          "output_type": "execute_result",
          "data": {
            "text/plain": [
              "True"
            ]
          },
          "metadata": {},
          "execution_count": 84
        }
      ],
      "source": [
        "import nltk\n",
        "nltk.download('punkt')"
      ]
    },
    {
      "cell_type": "code",
      "source": [
        "pip install nltk"
      ],
      "metadata": {
        "colab": {
          "base_uri": "https://localhost:8080/"
        },
        "id": "o87qyloQY6uL",
        "outputId": "6f675246-9f1d-4c48-a8bd-63871299cbc2"
      },
      "execution_count": 85,
      "outputs": [
        {
          "output_type": "stream",
          "name": "stdout",
          "text": [
            "Requirement already satisfied: nltk in /usr/local/lib/python3.10/dist-packages (3.8.1)\n",
            "Requirement already satisfied: click in /usr/local/lib/python3.10/dist-packages (from nltk) (8.1.7)\n",
            "Requirement already satisfied: joblib in /usr/local/lib/python3.10/dist-packages (from nltk) (1.4.2)\n",
            "Requirement already satisfied: regex>=2021.8.3 in /usr/local/lib/python3.10/dist-packages (from nltk) (2024.5.15)\n",
            "Requirement already satisfied: tqdm in /usr/local/lib/python3.10/dist-packages (from nltk) (4.66.5)\n"
          ]
        }
      ]
    },
    {
      "cell_type": "code",
      "source": [
        "corpus = \"\"\" the cat's purred softly on the warm lap. Birds chirped merrily outside the window! as though.\n",
        " Colorful flowers bloomed in the garden.\n",
        " Children's laughter echoed through the park.\"\"\"\n",
        "\n"
      ],
      "metadata": {
        "id": "BzC8tPJOXAih"
      },
      "execution_count": 86,
      "outputs": []
    },
    {
      "cell_type": "code",
      "source": [
        "print(corpus)"
      ],
      "metadata": {
        "colab": {
          "base_uri": "https://localhost:8080/"
        },
        "id": "_MHcZ4uHYgGv",
        "outputId": "27c55234-7cd9-4bac-8952-dc241c919b18"
      },
      "execution_count": 87,
      "outputs": [
        {
          "output_type": "stream",
          "name": "stdout",
          "text": [
            " the cat's purred softly on the warm lap. Birds chirped merrily outside the window! as though.\n",
            " Colorful flowers bloomed in the garden. \n",
            " Children's laughter echoed through the park.\n"
          ]
        }
      ]
    },
    {
      "cell_type": "markdown",
      "source": [
        "### ***Sentence Tokenizer***"
      ],
      "metadata": {
        "id": "b_0xSjJoa3NQ"
      }
    },
    {
      "cell_type": "code",
      "source": [
        "### Will split corpus by '.' and '!'\n",
        "\n",
        "from nltk.tokenize import sent_tokenize\n",
        "\n",
        "document = sent_tokenize(corpus)"
      ],
      "metadata": {
        "id": "ug-3YGftYhgQ"
      },
      "execution_count": 88,
      "outputs": []
    },
    {
      "cell_type": "code",
      "source": [
        "document"
      ],
      "metadata": {
        "colab": {
          "base_uri": "https://localhost:8080/"
        },
        "id": "LgOyyCpyY0S3",
        "outputId": "de9ab8ef-4485-4ed4-bc6e-290c285154c9"
      },
      "execution_count": 89,
      "outputs": [
        {
          "output_type": "execute_result",
          "data": {
            "text/plain": [
              "[\" the cat's purred softly on the warm lap.\",\n",
              " 'Birds chirped merrily outside the window!',\n",
              " 'as though.',\n",
              " 'Colorful flowers bloomed in the garden.',\n",
              " \"Children's laughter echoed through the park.\"]"
            ]
          },
          "metadata": {},
          "execution_count": 89
        }
      ]
    },
    {
      "cell_type": "markdown",
      "source": [
        "### ***Word Tokenizer***"
      ],
      "metadata": {
        "id": "nKNgXHXXa87Y"
      }
    },
    {
      "cell_type": "code",
      "source": [
        "from nltk.tokenize import word_tokenize\n",
        "words = word_tokenize(corpus)"
      ],
      "metadata": {
        "id": "8FhmRjlpZSzZ"
      },
      "execution_count": 90,
      "outputs": []
    },
    {
      "cell_type": "code",
      "source": [
        "### most of the characters (',', '.', '!') will be considered as a word\n",
        "\n",
        "print(words)"
      ],
      "metadata": {
        "colab": {
          "base_uri": "https://localhost:8080/"
        },
        "id": "U7602Q-4atFI",
        "outputId": "399de493-ca84-46f8-f33a-cc8b5f8f3c01"
      },
      "execution_count": 91,
      "outputs": [
        {
          "output_type": "stream",
          "name": "stdout",
          "text": [
            "['the', 'cat', \"'s\", 'purred', 'softly', 'on', 'the', 'warm', 'lap', '.', 'Birds', 'chirped', 'merrily', 'outside', 'the', 'window', '!', 'as', 'though', '.', 'Colorful', 'flowers', 'bloomed', 'in', 'the', 'garden', '.', 'Children', \"'s\", 'laughter', 'echoed', 'through', 'the', 'park', '.']\n"
          ]
        }
      ]
    },
    {
      "cell_type": "code",
      "source": [
        "words"
      ],
      "metadata": {
        "colab": {
          "base_uri": "https://localhost:8080/"
        },
        "id": "bloL5LoEazcw",
        "outputId": "1d6bd16c-7031-4fcb-acd0-bd588cf1faca"
      },
      "execution_count": 92,
      "outputs": [
        {
          "output_type": "execute_result",
          "data": {
            "text/plain": [
              "['the',\n",
              " 'cat',\n",
              " \"'s\",\n",
              " 'purred',\n",
              " 'softly',\n",
              " 'on',\n",
              " 'the',\n",
              " 'warm',\n",
              " 'lap',\n",
              " '.',\n",
              " 'Birds',\n",
              " 'chirped',\n",
              " 'merrily',\n",
              " 'outside',\n",
              " 'the',\n",
              " 'window',\n",
              " '!',\n",
              " 'as',\n",
              " 'though',\n",
              " '.',\n",
              " 'Colorful',\n",
              " 'flowers',\n",
              " 'bloomed',\n",
              " 'in',\n",
              " 'the',\n",
              " 'garden',\n",
              " '.',\n",
              " 'Children',\n",
              " \"'s\",\n",
              " 'laughter',\n",
              " 'echoed',\n",
              " 'through',\n",
              " 'the',\n",
              " 'park',\n",
              " '.']"
            ]
          },
          "metadata": {},
          "execution_count": 92
        }
      ]
    },
    {
      "cell_type": "code",
      "source": [
        "for sentence in document:\n",
        "  print(word_tokenize(sentence))"
      ],
      "metadata": {
        "colab": {
          "base_uri": "https://localhost:8080/"
        },
        "id": "AUKMrL49bk1y",
        "outputId": "d9afc28c-2d57-4ee6-e792-08267a837e8a"
      },
      "execution_count": 93,
      "outputs": [
        {
          "output_type": "stream",
          "name": "stdout",
          "text": [
            "['the', 'cat', \"'s\", 'purred', 'softly', 'on', 'the', 'warm', 'lap', '.']\n",
            "['Birds', 'chirped', 'merrily', 'outside', 'the', 'window', '!']\n",
            "['as', 'though', '.']\n",
            "['Colorful', 'flowers', 'bloomed', 'in', 'the', 'garden', '.']\n",
            "['Children', \"'s\", 'laughter', 'echoed', 'through', 'the', 'park', '.']\n"
          ]
        }
      ]
    },
    {
      "cell_type": "code",
      "source": [
        "### Will split Corpus to words and every punctuation mark( Character ) with it as well\n",
        "\n",
        "from nltk.tokenize import wordpunct_tokenize\n",
        "\n",
        "wordpunct_tokenize(corpus)"
      ],
      "metadata": {
        "colab": {
          "base_uri": "https://localhost:8080/"
        },
        "id": "0-v49FA7ceRA",
        "outputId": "e8ed2306-b70f-44d3-ed18-0604c88f1965"
      },
      "execution_count": 94,
      "outputs": [
        {
          "output_type": "execute_result",
          "data": {
            "text/plain": [
              "['the',\n",
              " 'cat',\n",
              " \"'\",\n",
              " 's',\n",
              " 'purred',\n",
              " 'softly',\n",
              " 'on',\n",
              " 'the',\n",
              " 'warm',\n",
              " 'lap',\n",
              " '.',\n",
              " 'Birds',\n",
              " 'chirped',\n",
              " 'merrily',\n",
              " 'outside',\n",
              " 'the',\n",
              " 'window',\n",
              " '!',\n",
              " 'as',\n",
              " 'though',\n",
              " '.',\n",
              " 'Colorful',\n",
              " 'flowers',\n",
              " 'bloomed',\n",
              " 'in',\n",
              " 'the',\n",
              " 'garden',\n",
              " '.',\n",
              " 'Children',\n",
              " \"'\",\n",
              " 's',\n",
              " 'laughter',\n",
              " 'echoed',\n",
              " 'through',\n",
              " 'the',\n",
              " 'park',\n",
              " '.']"
            ]
          },
          "metadata": {},
          "execution_count": 94
        }
      ]
    },
    {
      "cell_type": "markdown",
      "source": [
        "### ***Stemming***"
      ],
      "metadata": {
        "id": "UuJCDMJ6S_Wb"
      }
    },
    {
      "cell_type": "code",
      "source": [
        "words = [\"careful\", \"careless\", \"carefully\", \"caretaker\", \"dislike\", \"likely\", \"likeness\", \"unlikely\", 'fairly', 'sportingly']"
      ],
      "metadata": {
        "id": "UZs2-P0seBw_"
      },
      "execution_count": 95,
      "outputs": []
    },
    {
      "cell_type": "markdown",
      "source": [
        "### ***Porter Stemmer***"
      ],
      "metadata": {
        "id": "HrJDGFoGTi7i"
      }
    },
    {
      "cell_type": "code",
      "source": [
        "\n",
        "from nltk.stem import PorterStemmer\n",
        "\n",
        "stemmer = PorterStemmer()\n",
        "\n",
        "for word in words:\n",
        "  print(word, \"---------->\", stemmer.stem(word) )\n"
      ],
      "metadata": {
        "colab": {
          "base_uri": "https://localhost:8080/"
        },
        "id": "WwdoenkUSgG2",
        "outputId": "1b2f1c47-562e-4005-f898-1e653a331ba2"
      },
      "execution_count": 96,
      "outputs": [
        {
          "output_type": "stream",
          "name": "stdout",
          "text": [
            "careful ----------> care\n",
            "careless ----------> careless\n",
            "carefully ----------> care\n",
            "caretaker ----------> caretak\n",
            "dislike ----------> dislik\n",
            "likely ----------> like\n",
            "likeness ----------> like\n",
            "unlikely ----------> unlik\n",
            "fairly ----------> fairli\n",
            "sportingly ----------> sportingli\n"
          ]
        }
      ]
    },
    {
      "cell_type": "code",
      "source": [
        "stemmer.stem(\"congratulations\")"
      ],
      "metadata": {
        "colab": {
          "base_uri": "https://localhost:8080/",
          "height": 36
        },
        "id": "BcCCIIcVUUKH",
        "outputId": "34f2f888-6e71-459f-edf3-ac4fe470445b"
      },
      "execution_count": 97,
      "outputs": [
        {
          "output_type": "execute_result",
          "data": {
            "text/plain": [
              "'congratul'"
            ],
            "application/vnd.google.colaboratory.intrinsic+json": {
              "type": "string"
            }
          },
          "metadata": {},
          "execution_count": 97
        }
      ]
    },
    {
      "cell_type": "code",
      "source": [
        "from nltk.stem import RegexpStemmer\n",
        "\n",
        "### Ignore Spaces in the argument unless a word may also have a space in it\n",
        "### The nature of the spaces will reflect in the words\n",
        "\n",
        "### Not putting $ will refer to remove the exp no matter the nature\n",
        "\n",
        "stemmer = RegexpStemmer('ing|s $|e$|able$', min=4)"
      ],
      "metadata": {
        "id": "0zjVzKy7UWlB"
      },
      "execution_count": 98,
      "outputs": []
    },
    {
      "cell_type": "code",
      "source": [
        "stemmer.stem('Cars')"
      ],
      "metadata": {
        "colab": {
          "base_uri": "https://localhost:8080/",
          "height": 36
        },
        "id": "IvHUSEvOWMg9",
        "outputId": "08fca94f-c3df-4ce8-a574-556a58ebd02e"
      },
      "execution_count": 99,
      "outputs": [
        {
          "output_type": "execute_result",
          "data": {
            "text/plain": [
              "'Cars'"
            ],
            "application/vnd.google.colaboratory.intrinsic+json": {
              "type": "string"
            }
          },
          "metadata": {},
          "execution_count": 99
        }
      ]
    },
    {
      "cell_type": "code",
      "source": [
        "stemmer.stem('Cars ')"
      ],
      "metadata": {
        "colab": {
          "base_uri": "https://localhost:8080/",
          "height": 36
        },
        "id": "30CNI4B9Xhib",
        "outputId": "0bdbc6b0-893a-4ac0-e7a6-3007a7b6f1d1"
      },
      "execution_count": 100,
      "outputs": [
        {
          "output_type": "execute_result",
          "data": {
            "text/plain": [
              "'Car'"
            ],
            "application/vnd.google.colaboratory.intrinsic+json": {
              "type": "string"
            }
          },
          "metadata": {},
          "execution_count": 100
        }
      ]
    },
    {
      "cell_type": "code",
      "source": [
        "stemmer.stem('calling')"
      ],
      "metadata": {
        "colab": {
          "base_uri": "https://localhost:8080/",
          "height": 36
        },
        "id": "b48kCixIXxz6",
        "outputId": "7b034b07-fcb8-467d-8239-15166236c115"
      },
      "execution_count": 101,
      "outputs": [
        {
          "output_type": "execute_result",
          "data": {
            "text/plain": [
              "'call'"
            ],
            "application/vnd.google.colaboratory.intrinsic+json": {
              "type": "string"
            }
          },
          "metadata": {},
          "execution_count": 101
        }
      ]
    },
    {
      "cell_type": "code",
      "source": [
        "stemmer.stem('calling ')"
      ],
      "metadata": {
        "colab": {
          "base_uri": "https://localhost:8080/",
          "height": 36
        },
        "id": "YezMVON9X0zz",
        "outputId": "83e18894-4289-44f3-c066-2637017b1295"
      },
      "execution_count": 102,
      "outputs": [
        {
          "output_type": "execute_result",
          "data": {
            "text/plain": [
              "'call '"
            ],
            "application/vnd.google.colaboratory.intrinsic+json": {
              "type": "string"
            }
          },
          "metadata": {},
          "execution_count": 102
        }
      ]
    },
    {
      "cell_type": "code",
      "source": [
        "stemmer.stem('call ing')"
      ],
      "metadata": {
        "colab": {
          "base_uri": "https://localhost:8080/",
          "height": 36
        },
        "id": "-QdRKILvX62J",
        "outputId": "7d6f2ef5-963a-4cdb-e2fb-a886698b30c4"
      },
      "execution_count": 103,
      "outputs": [
        {
          "output_type": "execute_result",
          "data": {
            "text/plain": [
              "'call '"
            ],
            "application/vnd.google.colaboratory.intrinsic+json": {
              "type": "string"
            }
          },
          "metadata": {},
          "execution_count": 103
        }
      ]
    },
    {
      "cell_type": "code",
      "source": [
        "stemmer.stem('ingcall')"
      ],
      "metadata": {
        "colab": {
          "base_uri": "https://localhost:8080/",
          "height": 36
        },
        "id": "ToCtFJHzYhFR",
        "outputId": "c5cad7be-0f34-4d03-af2e-cc6190b7e242"
      },
      "execution_count": 104,
      "outputs": [
        {
          "output_type": "execute_result",
          "data": {
            "text/plain": [
              "'call'"
            ],
            "application/vnd.google.colaboratory.intrinsic+json": {
              "type": "string"
            }
          },
          "metadata": {},
          "execution_count": 104
        }
      ]
    },
    {
      "cell_type": "markdown",
      "source": [
        "### ***Snowball Stemmer***"
      ],
      "metadata": {
        "id": "IyGmGKVTZUrM"
      }
    },
    {
      "cell_type": "code",
      "source": [
        "from nltk.stem import SnowballStemmer\n",
        "\n",
        "stemmer = SnowballStemmer('english')"
      ],
      "metadata": {
        "id": "wq7OJNM5YgwZ"
      },
      "execution_count": 105,
      "outputs": []
    },
    {
      "cell_type": "code",
      "source": [
        "for word in words:\n",
        "  print(word, '------------>', stemmer.stem(word) )"
      ],
      "metadata": {
        "colab": {
          "base_uri": "https://localhost:8080/"
        },
        "id": "SBCFHRldai2v",
        "outputId": "2ff03ca1-1b19-49cf-ef90-f42424dddd27"
      },
      "execution_count": 106,
      "outputs": [
        {
          "output_type": "stream",
          "name": "stdout",
          "text": [
            "careful ------------> care\n",
            "careless ------------> careless\n",
            "carefully ------------> care\n",
            "caretaker ------------> caretak\n",
            "dislike ------------> dislik\n",
            "likely ------------> like\n",
            "likeness ------------> like\n",
            "unlikely ------------> unlik\n",
            "fairly ------------> fair\n",
            "sportingly ------------> sport\n"
          ]
        }
      ]
    },
    {
      "cell_type": "code",
      "source": [
        "#### Notice the word Fair and Sport"
      ],
      "metadata": {
        "id": "K9D3b9yKb6MV"
      },
      "execution_count": 113,
      "outputs": []
    }
  ]
}