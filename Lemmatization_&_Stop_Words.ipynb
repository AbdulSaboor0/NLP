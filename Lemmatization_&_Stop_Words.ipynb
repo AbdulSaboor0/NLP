{
  "nbformat": 4,
  "nbformat_minor": 0,
  "metadata": {
    "colab": {
      "provenance": []
    },
    "kernelspec": {
      "name": "python3",
      "display_name": "Python 3"
    },
    "language_info": {
      "name": "python"
    }
  },
  "cells": [
    {
      "cell_type": "markdown",
      "source": [
        "##***Lemmatization***\n",
        "\n",
        "---\n",
        "\n",
        "\n",
        "\n",
        "---\n",
        "\n"
      ],
      "metadata": {
        "id": "EW9SHkFP8vlB"
      }
    },
    {
      "cell_type": "code",
      "execution_count": 9,
      "metadata": {
        "id": "wmbvIKmKxKhQ"
      },
      "outputs": [],
      "source": [
        "from nltk.stem import WordNetLemmatizer as Wl"
      ]
    },
    {
      "cell_type": "code",
      "source": [
        "lemmatize = Wl()"
      ],
      "metadata": {
        "id": "SLNmd4LdxeaP"
      },
      "execution_count": 10,
      "outputs": []
    },
    {
      "cell_type": "code",
      "source": [
        "Words =[\"running\", \"jumps\", \"eating\", \"slept\", \"thinks\", \"growing\", \"learned\", \"wrote\", \"spoke\"]\n",
        "Wordss = [\"beautiful\", \"happy\", \"taller\", \"stronger\", \"smartest\", \"funny\", \"kind\", \"brave\", \"faster\", \"loudest\"]"
      ],
      "metadata": {
        "id": "xKTiEIYexj39"
      },
      "execution_count": 11,
      "outputs": []
    },
    {
      "cell_type": "code",
      "source": [
        "import nltk\n",
        "nltk.download('wordnet')"
      ],
      "metadata": {
        "colab": {
          "base_uri": "https://localhost:8080/"
        },
        "id": "BzpS7t2tzVbn",
        "outputId": "a4deb193-3c12-4ddf-a749-ea6a639ec095"
      },
      "execution_count": 12,
      "outputs": [
        {
          "output_type": "stream",
          "name": "stderr",
          "text": [
            "[nltk_data] Downloading package wordnet to /root/nltk_data...\n",
            "[nltk_data]   Package wordnet is already up-to-date!\n"
          ]
        },
        {
          "output_type": "execute_result",
          "data": {
            "text/plain": [
              "True"
            ]
          },
          "metadata": {},
          "execution_count": 12
        }
      ]
    },
    {
      "cell_type": "markdown",
      "source": [
        "\n",
        "\n",
        "\n",
        "  ### **NOUN : (n)**\n",
        "  ### **ADVERB : (r)**\n",
        "  ### **ADJECTIVE : (a)**\n",
        "  ### **VERB : (v)**\n"
      ],
      "metadata": {
        "id": "GoNqVeKiz-rH"
      }
    },
    {
      "cell_type": "code",
      "source": [
        "for word in Words:\n",
        "  print(word, '------------>', lemmatize.lemmatize(word, 'v'))"
      ],
      "metadata": {
        "colab": {
          "base_uri": "https://localhost:8080/"
        },
        "id": "Unm3Imp3yn_3",
        "outputId": "fb748e29-61f5-41ed-ad0e-9093f41b06ff"
      },
      "execution_count": 13,
      "outputs": [
        {
          "output_type": "stream",
          "name": "stdout",
          "text": [
            "running ------------> run\n",
            "jumps ------------> jump\n",
            "eating ------------> eat\n",
            "slept ------------> sleep\n",
            "thinks ------------> think\n",
            "growing ------------> grow\n",
            "learned ------------> learn\n",
            "wrote ------------> write\n",
            "spoke ------------> speak\n"
          ]
        }
      ]
    },
    {
      "cell_type": "code",
      "source": [
        "for word in Wordss:\n",
        "  print(word, '------------>', lemmatize.lemmatize(word, 'a'))"
      ],
      "metadata": {
        "colab": {
          "base_uri": "https://localhost:8080/"
        },
        "id": "OBW5wVuUysHV",
        "outputId": "853ec901-5859-41b5-b3f2-c0f5624bd9c9"
      },
      "execution_count": 14,
      "outputs": [
        {
          "output_type": "stream",
          "name": "stdout",
          "text": [
            "beautiful ------------> beautiful\n",
            "happy ------------> happy\n",
            "taller ------------> tall\n",
            "stronger ------------> strong\n",
            "smartest ------------> smart\n",
            "funny ------------> funny\n",
            "kind ------------> kind\n",
            "brave ------------> brave\n",
            "faster ------------> fast\n",
            "loudest ------------> loud\n"
          ]
        }
      ]
    },
    {
      "cell_type": "markdown",
      "source": [
        "##***Stop Words***\n",
        "\n",
        "---\n",
        "\n",
        "\n",
        "\n",
        "---\n",
        "\n"
      ],
      "metadata": {
        "id": "UqmHKDXj8m4g"
      }
    },
    {
      "cell_type": "code",
      "source": [
        "corpus = \"\"\"Kindness is not about grand gestures or heroic acts. It's about the small, everyday choices we make. A smile, a helping hand, a listening ear – these simple acts can have a profound impact on someone's day.\n",
        "\n",
        "Imagine the ripple effect of kindness. One act of compassion can inspire another, and another, until it creates a wave of positivity that reaches far beyond our own lives. When we choose kindness, we not only uplift others but also enrich our own experiences. Studies have shown that acts of kindness can reduce stress, boost happiness, and even improve our physical health.\n",
        "\n",
        "It's important to recognize that kindness is not always easy. We live in a fast-paced world that can be demanding and stressful. But it's precisely in those moments that kindness matters most. When we face challenges, it's tempting to react with anger or frustration. But by choosing kindness instead, we create a more positive and supportive environment for ourselves and others.\"\"\""
      ],
      "metadata": {
        "id": "yOYB1Lqi8kWR"
      },
      "execution_count": 36,
      "outputs": []
    },
    {
      "cell_type": "code",
      "source": [
        "#### TOKENIZE\n",
        "\n",
        "from nltk.tokenize import  sent_tokenize\n",
        "\n",
        "nltk.download('punkt')\n",
        "document1 = sent_tokenize(corpus)\n"
      ],
      "metadata": {
        "colab": {
          "base_uri": "https://localhost:8080/"
        },
        "id": "SMMp_zqL8kbS",
        "outputId": "5a2d2ffe-42df-4c48-c029-5979437ce866"
      },
      "execution_count": 43,
      "outputs": [
        {
          "output_type": "stream",
          "name": "stderr",
          "text": [
            "[nltk_data] Downloading package punkt to /root/nltk_data...\n",
            "[nltk_data]   Package punkt is already up-to-date!\n"
          ]
        }
      ]
    },
    {
      "cell_type": "code",
      "source": [
        "document1"
      ],
      "metadata": {
        "colab": {
          "base_uri": "https://localhost:8080/"
        },
        "id": "4o30dlK48kdy",
        "outputId": "ade91aa5-9451-469e-c0e2-86bec8074bcd"
      },
      "execution_count": 45,
      "outputs": [
        {
          "output_type": "execute_result",
          "data": {
            "text/plain": [
              "['Kindness is not about grand gestures or heroic acts.',\n",
              " \"It's about the small, everyday choices we make.\",\n",
              " \"A smile, a helping hand, a listening ear – these simple acts can have a profound impact on someone's day.\",\n",
              " 'Imagine the ripple effect of kindness.',\n",
              " 'One act of compassion can inspire another, and another, until it creates a wave of positivity that reaches far beyond our own lives.',\n",
              " 'When we choose kindness, we not only uplift others but also enrich our own experiences.',\n",
              " 'Studies have shown that acts of kindness can reduce stress, boost happiness, and even improve our physical health.',\n",
              " \"It's important to recognize that kindness is not always easy.\",\n",
              " 'We live in a fast-paced world that can be demanding and stressful.',\n",
              " \"But it's precisely in those moments that kindness matters most.\",\n",
              " \"When we face challenges, it's tempting to react with anger or frustration.\",\n",
              " 'But by choosing kindness instead, we create a more positive and supportive environment for ourselves and others.']"
            ]
          },
          "metadata": {},
          "execution_count": 45
        }
      ]
    },
    {
      "cell_type": "code",
      "source": [
        "from nltk.stem import PorterStemmer\n",
        "from nltk.corpus import stopwords\n",
        "nltk.download('stopwords')"
      ],
      "metadata": {
        "colab": {
          "base_uri": "https://localhost:8080/"
        },
        "id": "sJ0XPAVq8kh6",
        "outputId": "bc64c525-e415-4f6a-84ff-2119f9640739"
      },
      "execution_count": 18,
      "outputs": [
        {
          "output_type": "stream",
          "name": "stderr",
          "text": [
            "[nltk_data] Downloading package stopwords to /root/nltk_data...\n",
            "[nltk_data]   Unzipping corpora/stopwords.zip.\n"
          ]
        },
        {
          "output_type": "execute_result",
          "data": {
            "text/plain": [
              "True"
            ]
          },
          "metadata": {},
          "execution_count": 18
        }
      ]
    },
    {
      "cell_type": "code",
      "source": [
        "\n",
        "stopwords.words('english')"
      ],
      "metadata": {
        "colab": {
          "base_uri": "https://localhost:8080/"
        },
        "collapsed": true,
        "id": "T3OtLiEe_xmS",
        "outputId": "a53e2232-60a5-4222-da98-c729c2117dbe"
      },
      "execution_count": 20,
      "outputs": [
        {
          "output_type": "execute_result",
          "data": {
            "text/plain": [
              "['i',\n",
              " 'me',\n",
              " 'my',\n",
              " 'myself',\n",
              " 'we',\n",
              " 'our',\n",
              " 'ours',\n",
              " 'ourselves',\n",
              " 'you',\n",
              " \"you're\",\n",
              " \"you've\",\n",
              " \"you'll\",\n",
              " \"you'd\",\n",
              " 'your',\n",
              " 'yours',\n",
              " 'yourself',\n",
              " 'yourselves',\n",
              " 'he',\n",
              " 'him',\n",
              " 'his',\n",
              " 'himself',\n",
              " 'she',\n",
              " \"she's\",\n",
              " 'her',\n",
              " 'hers',\n",
              " 'herself',\n",
              " 'it',\n",
              " \"it's\",\n",
              " 'its',\n",
              " 'itself',\n",
              " 'they',\n",
              " 'them',\n",
              " 'their',\n",
              " 'theirs',\n",
              " 'themselves',\n",
              " 'what',\n",
              " 'which',\n",
              " 'who',\n",
              " 'whom',\n",
              " 'this',\n",
              " 'that',\n",
              " \"that'll\",\n",
              " 'these',\n",
              " 'those',\n",
              " 'am',\n",
              " 'is',\n",
              " 'are',\n",
              " 'was',\n",
              " 'were',\n",
              " 'be',\n",
              " 'been',\n",
              " 'being',\n",
              " 'have',\n",
              " 'has',\n",
              " 'had',\n",
              " 'having',\n",
              " 'do',\n",
              " 'does',\n",
              " 'did',\n",
              " 'doing',\n",
              " 'a',\n",
              " 'an',\n",
              " 'the',\n",
              " 'and',\n",
              " 'but',\n",
              " 'if',\n",
              " 'or',\n",
              " 'because',\n",
              " 'as',\n",
              " 'until',\n",
              " 'while',\n",
              " 'of',\n",
              " 'at',\n",
              " 'by',\n",
              " 'for',\n",
              " 'with',\n",
              " 'about',\n",
              " 'against',\n",
              " 'between',\n",
              " 'into',\n",
              " 'through',\n",
              " 'during',\n",
              " 'before',\n",
              " 'after',\n",
              " 'above',\n",
              " 'below',\n",
              " 'to',\n",
              " 'from',\n",
              " 'up',\n",
              " 'down',\n",
              " 'in',\n",
              " 'out',\n",
              " 'on',\n",
              " 'off',\n",
              " 'over',\n",
              " 'under',\n",
              " 'again',\n",
              " 'further',\n",
              " 'then',\n",
              " 'once',\n",
              " 'here',\n",
              " 'there',\n",
              " 'when',\n",
              " 'where',\n",
              " 'why',\n",
              " 'how',\n",
              " 'all',\n",
              " 'any',\n",
              " 'both',\n",
              " 'each',\n",
              " 'few',\n",
              " 'more',\n",
              " 'most',\n",
              " 'other',\n",
              " 'some',\n",
              " 'such',\n",
              " 'no',\n",
              " 'nor',\n",
              " 'not',\n",
              " 'only',\n",
              " 'own',\n",
              " 'same',\n",
              " 'so',\n",
              " 'than',\n",
              " 'too',\n",
              " 'very',\n",
              " 's',\n",
              " 't',\n",
              " 'can',\n",
              " 'will',\n",
              " 'just',\n",
              " 'don',\n",
              " \"don't\",\n",
              " 'should',\n",
              " \"should've\",\n",
              " 'now',\n",
              " 'd',\n",
              " 'll',\n",
              " 'm',\n",
              " 'o',\n",
              " 're',\n",
              " 've',\n",
              " 'y',\n",
              " 'ain',\n",
              " 'aren',\n",
              " \"aren't\",\n",
              " 'couldn',\n",
              " \"couldn't\",\n",
              " 'didn',\n",
              " \"didn't\",\n",
              " 'doesn',\n",
              " \"doesn't\",\n",
              " 'hadn',\n",
              " \"hadn't\",\n",
              " 'hasn',\n",
              " \"hasn't\",\n",
              " 'haven',\n",
              " \"haven't\",\n",
              " 'isn',\n",
              " \"isn't\",\n",
              " 'ma',\n",
              " 'mightn',\n",
              " \"mightn't\",\n",
              " 'mustn',\n",
              " \"mustn't\",\n",
              " 'needn',\n",
              " \"needn't\",\n",
              " 'shan',\n",
              " \"shan't\",\n",
              " 'shouldn',\n",
              " \"shouldn't\",\n",
              " 'wasn',\n",
              " \"wasn't\",\n",
              " 'weren',\n",
              " \"weren't\",\n",
              " 'won',\n",
              " \"won't\",\n",
              " 'wouldn',\n",
              " \"wouldn't\"]"
            ]
          },
          "metadata": {},
          "execution_count": 20
        }
      ]
    },
    {
      "cell_type": "code",
      "source": [
        "stemmer = PorterStemmer()"
      ],
      "metadata": {
        "id": "PwNIEcrhDUWS"
      },
      "execution_count": 21,
      "outputs": []
    },
    {
      "cell_type": "code",
      "source": [
        "### PORTER STEMMER\n",
        "\n",
        "from nltk.tokenize import word_tokenize\n",
        "\n",
        "for i in range (len(document)) :\n",
        "  words = nltk.word_tokenize(document[i])\n",
        "  words = [stemmer.stem(word) for word in words if word not in set(stopwords.words('english'))]\n",
        "  document[i] =  ' '.join(words) ### Converting the words back to sentences"
      ],
      "metadata": {
        "id": "T0kY92Lj_3iq"
      },
      "execution_count": 22,
      "outputs": []
    },
    {
      "cell_type": "code",
      "source": [
        "document"
      ],
      "metadata": {
        "colab": {
          "base_uri": "https://localhost:8080/"
        },
        "id": "eQSvJqN0EjRo",
        "outputId": "d841c1dc-56ae-487d-dce6-a23f265c2e13"
      },
      "execution_count": 33,
      "outputs": [
        {
          "output_type": "execute_result",
          "data": {
            "text/plain": [
              "['kind grand gestur heroic act .',\n",
              " \"'s small , everyday choic make .\",\n",
              " \"smile , help hand , listen ear – simpl act profound impact someon 's day .\",\n",
              " 'imagin rippl effect kind .',\n",
              " 'one act compass inspir anoth , anoth , creat wave posit reach far beyond live .',\n",
              " 'choo kind , uplift also enrich experi .',\n",
              " 'studi shown act kind reduc stress , boost happi , even improv physic health .',\n",
              " \"'s import recogn kind alway easi .\",\n",
              " 'live fast-pac world demand stress .',\n",
              " \"'s preci moment kind matter .\",\n",
              " \"face challeng , 's tempt react anger frustrat .\",\n",
              " 'choo kind instead , creat posit support environ .']"
            ]
          },
          "metadata": {},
          "execution_count": 33
        }
      ]
    },
    {
      "cell_type": "code",
      "source": [
        "from nltk.stem import SnowballStemmer\n",
        "\n",
        "stemmer = SnowballStemmer('english')"
      ],
      "metadata": {
        "id": "h_581zxmEkOi"
      },
      "execution_count": 32,
      "outputs": []
    },
    {
      "cell_type": "code",
      "source": [
        "### SNOWBALL STEMMER\n",
        "\n",
        "for i in range (len(document)) :\n",
        "  words = nltk.word_tokenize(document[i])\n",
        "  words = [stemmer.stem(word) for word in words if word not in set(stopwords.words('english'))]\n",
        "  document[i] =  ' '.join(words) ### Converting the words back to sentences"
      ],
      "metadata": {
        "id": "V-8WaydHVz4_"
      },
      "execution_count": 51,
      "outputs": []
    },
    {
      "cell_type": "code",
      "source": [
        "document"
      ],
      "metadata": {
        "colab": {
          "base_uri": "https://localhost:8080/"
        },
        "id": "kdr7A-yjWB6y",
        "outputId": "acff5a35-66c9-494a-a5be-5398036c1cd5"
      },
      "execution_count": 27,
      "outputs": [
        {
          "output_type": "execute_result",
          "data": {
            "text/plain": [
              "['kind grand gestur heroic act .',\n",
              " \"'s small , everyday choic make .\",\n",
              " \"smile , help hand , listen ear – simpl act profound impact someon 's day .\",\n",
              " 'imagin rippl effect kind .',\n",
              " 'one act compass inspir anoth , anoth , creat wave posit reach far beyond live .',\n",
              " 'choo kind , uplift also enrich experi .',\n",
              " 'studi shown act kind reduc stress , boost happi , even improv physic health .',\n",
              " \"'s import recogn kind alway easi .\",\n",
              " 'live fast-pac world demand stress .',\n",
              " \"'s preci moment kind matter .\",\n",
              " \"face challeng , 's tempt react anger frustrat .\",\n",
              " 'choo kind instead , creat posit support environ .']"
            ]
          },
          "metadata": {},
          "execution_count": 27
        }
      ]
    },
    {
      "cell_type": "code",
      "source": [
        "### Lemmatizing\n",
        "\n",
        "from nltk.stem import WordNetLemmatizer\n",
        "lemmatizer = WordNetLemmatizer()"
      ],
      "metadata": {
        "id": "VVDknBwNWC5M"
      },
      "execution_count": 47,
      "outputs": []
    },
    {
      "cell_type": "code",
      "source": [
        "for i in range (len(document1)) :\n",
        "  words = nltk.word_tokenize(document1[i])\n",
        "  words = [lemmatizer.lemmatize(word) for word in words if word not in set(stopwords.words('english'))]\n",
        "  document1[i] =  ' '.join(words) ### Converting the words back to sentences"
      ],
      "metadata": {
        "id": "mcsQDQPpWww0"
      },
      "execution_count": 46,
      "outputs": []
    },
    {
      "cell_type": "code",
      "source": [
        "document1"
      ],
      "metadata": {
        "colab": {
          "base_uri": "https://localhost:8080/"
        },
        "id": "wtsKfP0DW-KT",
        "outputId": "fe2f2366-a29d-4e0d-f31b-fe61ec4d3270"
      },
      "execution_count": 50,
      "outputs": [
        {
          "output_type": "execute_result",
          "data": {
            "text/plain": [
              "['Kindness grand gesture heroic act .',\n",
              " \"It 's small , everyday choice make .\",\n",
              " \"A smile , helping hand , listening ear – simple act profound impact someone 's day .\",\n",
              " 'Imagine ripple effect kindness .',\n",
              " 'One act compassion inspire another , another , creates wave positivity reach far beyond life .',\n",
              " 'When choose kindness , uplift others also enrich experience .',\n",
              " 'Studies shown act kindness reduce stress , boost happiness , even improve physical health .',\n",
              " \"It 's important recognize kindness always easy .\",\n",
              " 'We live fast-paced world demanding stressful .',\n",
              " \"But 's precisely moment kindness matter .\",\n",
              " \"When face challenge , 's tempting react anger frustration .\",\n",
              " 'But choosing kindness instead , create positive supportive environment others .']"
            ]
          },
          "metadata": {},
          "execution_count": 50
        }
      ]
    }
  ]
}