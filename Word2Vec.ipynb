{
  "nbformat": 4,
  "nbformat_minor": 0,
  "metadata": {
    "colab": {
      "provenance": []
    },
    "kernelspec": {
      "name": "python3",
      "display_name": "Python 3"
    },
    "language_info": {
      "name": "python"
    }
  },
  "cells": [
    {
      "cell_type": "markdown",
      "source": [
        "### ***WORD 2 VEC***\n",
        "\n",
        "---\n",
        "\n",
        "\n",
        "\n",
        "---\n",
        "\n"
      ],
      "metadata": {
        "id": "LyF-cZo74hW3"
      }
    },
    {
      "cell_type": "code",
      "execution_count": 1,
      "metadata": {
        "colab": {
          "base_uri": "https://localhost:8080/"
        },
        "id": "qMtYb5oKrRNt",
        "outputId": "af74297a-ec70-4fd8-f783-17a8f24eb2c7"
      },
      "outputs": [
        {
          "output_type": "stream",
          "name": "stdout",
          "text": [
            "Requirement already satisfied: gensim in /usr/local/lib/python3.10/dist-packages (4.3.3)\n",
            "Requirement already satisfied: numpy<2.0,>=1.18.5 in /usr/local/lib/python3.10/dist-packages (from gensim) (1.26.4)\n",
            "Requirement already satisfied: scipy<1.14.0,>=1.7.0 in /usr/local/lib/python3.10/dist-packages (from gensim) (1.13.1)\n",
            "Requirement already satisfied: smart-open>=1.8.1 in /usr/local/lib/python3.10/dist-packages (from gensim) (7.0.4)\n",
            "Requirement already satisfied: wrapt in /usr/local/lib/python3.10/dist-packages (from smart-open>=1.8.1->gensim) (1.16.0)\n"
          ]
        }
      ],
      "source": [
        "!pip install gensim"
      ]
    },
    {
      "cell_type": "code",
      "source": [
        "from gensim.models import Word2Vec, KeyedVectors"
      ],
      "metadata": {
        "id": "hb_A6GkVra0D"
      },
      "execution_count": 3,
      "outputs": []
    },
    {
      "cell_type": "code",
      "source": [
        "import gensim.downloader as api"
      ],
      "metadata": {
        "id": "xgEdxNvtsDEy"
      },
      "execution_count": 4,
      "outputs": []
    },
    {
      "cell_type": "code",
      "source": [
        "wv = api.load(\"word2vec-google-news-300\")\n",
        "vec_queen = wv['queen']"
      ],
      "metadata": {
        "colab": {
          "base_uri": "https://localhost:8080/"
        },
        "id": "BZ3Oqh9LsV15",
        "outputId": "b4b5cf3e-b8ed-4a23-b71f-f49af73be8e1"
      },
      "execution_count": 7,
      "outputs": [
        {
          "output_type": "stream",
          "name": "stdout",
          "text": [
            "[==================================================] 100.0% 1662.8/1662.8MB downloaded\n"
          ]
        }
      ]
    },
    {
      "cell_type": "code",
      "source": [
        "vec_queen"
      ],
      "metadata": {
        "colab": {
          "base_uri": "https://localhost:8080/"
        },
        "collapsed": true,
        "id": "wNsBPfdyv_R2",
        "outputId": "bf951f28-41f6-43b0-dae4-f28b6902fc90"
      },
      "execution_count": 8,
      "outputs": [
        {
          "output_type": "execute_result",
          "data": {
            "text/plain": [
              "array([ 0.00524902, -0.14355469, -0.06933594,  0.12353516,  0.13183594,\n",
              "       -0.08886719, -0.07128906, -0.21679688, -0.19726562,  0.05566406,\n",
              "       -0.07568359, -0.38085938,  0.10400391, -0.00081635,  0.1328125 ,\n",
              "        0.11279297,  0.07275391, -0.046875  ,  0.06591797,  0.09423828,\n",
              "        0.19042969,  0.13671875, -0.23632812, -0.11865234,  0.06542969,\n",
              "       -0.05322266, -0.30859375,  0.09179688,  0.18847656, -0.16699219,\n",
              "       -0.15625   , -0.13085938, -0.08251953,  0.21289062, -0.35546875,\n",
              "       -0.13183594,  0.09619141,  0.26367188, -0.09472656,  0.18359375,\n",
              "        0.10693359, -0.41601562,  0.26953125, -0.02770996,  0.17578125,\n",
              "       -0.11279297, -0.00411987,  0.14550781,  0.15625   ,  0.26757812,\n",
              "       -0.01794434,  0.09863281,  0.05297852, -0.03125   , -0.16308594,\n",
              "       -0.05810547, -0.34375   , -0.17285156,  0.11425781, -0.09033203,\n",
              "        0.13476562,  0.27929688, -0.04980469,  0.12988281,  0.17578125,\n",
              "       -0.22167969, -0.01190186,  0.140625  , -0.18164062,  0.11865234,\n",
              "        0.16113281,  0.21484375, -0.21191406,  0.12695312, -0.10009766,\n",
              "        0.13671875,  0.12695312,  0.01531982,  0.10449219, -0.02783203,\n",
              "       -0.06030273,  0.0222168 ,  0.18164062, -0.06738281,  0.04907227,\n",
              "        0.15429688, -0.25      ,  0.13964844,  0.29492188,  0.10644531,\n",
              "        0.3359375 , -0.22265625, -0.125     , -0.05297852,  0.19238281,\n",
              "        0.06835938,  0.06982422, -0.05200195,  0.14453125,  0.00448608,\n",
              "       -0.01013184, -0.1484375 ,  0.21777344, -0.1953125 , -0.390625  ,\n",
              "        0.07763672, -0.57421875, -0.07910156, -0.04052734, -0.1875    ,\n",
              "        0.25390625,  0.15722656,  0.125     ,  0.140625  ,  0.20117188,\n",
              "       -0.05859375,  0.16894531, -0.28125   ,  0.171875  ,  0.19140625,\n",
              "        0.12109375, -0.15039062, -0.00695801, -0.23730469,  0.13964844,\n",
              "       -0.00836182, -0.04711914,  0.14648438, -0.05688477,  0.10205078,\n",
              "        0.08447266,  0.21191406, -0.01831055,  0.50390625, -0.04858398,\n",
              "        0.22167969, -0.25585938,  0.03417969,  0.15820312, -0.03369141,\n",
              "        0.06738281, -0.25195312,  0.04614258, -0.07275391,  0.07958984,\n",
              "        0.04223633, -0.00128937,  0.20214844, -0.13085938, -0.06030273,\n",
              "        0.0378418 ,  0.13574219,  0.11181641, -0.24609375, -0.23925781,\n",
              "       -0.23632812, -0.04321289, -0.02905273,  0.23535156, -0.00390625,\n",
              "       -0.05029297,  0.18457031,  0.50390625, -0.00668335, -0.03466797,\n",
              "       -0.07568359,  0.06152344, -0.31445312, -0.03759766,  0.23632812,\n",
              "       -0.12792969,  0.15429688,  0.296875  ,  0.02709961, -0.17089844,\n",
              "       -0.22460938,  0.00241089,  0.10595703, -0.03320312,  0.0145874 ,\n",
              "       -0.21582031,  0.24707031, -0.07421875, -0.10205078,  0.16894531,\n",
              "       -0.05029297,  0.20800781, -0.03857422, -0.22265625,  0.27539062,\n",
              "       -0.05957031, -0.01757812,  0.01794434,  0.08886719,  0.12890625,\n",
              "        0.18261719,  0.14453125,  0.10400391, -0.1328125 , -0.32617188,\n",
              "        0.00386047, -0.11376953, -0.05053711, -0.13085938,  0.02209473,\n",
              "       -0.14648438,  0.10742188,  0.23046875,  0.15234375,  0.22753906,\n",
              "        0.04833984,  0.06787109, -0.06787109, -0.2578125 ,  0.11230469,\n",
              "        0.00363159, -0.12011719, -0.21289062,  0.11230469,  0.12158203,\n",
              "        0.06835938,  0.04907227,  0.2734375 , -0.00302124, -0.00378418,\n",
              "        0.00193787,  0.1875    , -0.29101562,  0.09033203,  0.26367188,\n",
              "       -0.25585938, -0.28710938, -0.40820312,  0.10546875,  0.39648438,\n",
              "       -0.07275391, -0.04321289, -0.06347656, -0.00060272, -0.11523438,\n",
              "        0.31445312, -0.22265625,  0.13574219, -0.01965332,  0.15332031,\n",
              "        0.00360107, -0.12011719,  0.06494141,  0.16210938, -0.16699219,\n",
              "        0.03271484, -0.00350952,  0.18847656,  0.19335938,  0.1328125 ,\n",
              "        0.06787109, -0.34179688, -0.08349609, -0.29492188, -0.02099609,\n",
              "        0.08886719,  0.32421875, -0.36914062, -0.0859375 , -0.04956055,\n",
              "        0.13183594,  0.04418945,  0.359375  ,  0.21484375,  0.265625  ,\n",
              "       -0.2734375 ,  0.23535156,  0.11425781,  0.08789062,  0.1875    ,\n",
              "       -0.33203125,  0.15136719, -0.03613281, -0.11914062,  0.27734375,\n",
              "        0.10839844, -0.07275391,  0.23242188,  0.00219727,  0.23828125,\n",
              "       -0.24902344, -0.12353516, -0.15917969, -0.00601196,  0.14550781,\n",
              "       -0.00460815, -0.22558594, -0.37890625, -0.37695312, -0.08251953,\n",
              "       -0.04125977,  0.16796875, -0.046875  ,  0.16308594,  0.15429688],\n",
              "      dtype=float32)"
            ]
          },
          "metadata": {},
          "execution_count": 8
        }
      ]
    },
    {
      "cell_type": "code",
      "source": [
        "vec_queen.shape"
      ],
      "metadata": {
        "colab": {
          "base_uri": "https://localhost:8080/"
        },
        "id": "vpq5FFdhwOIP",
        "outputId": "09c8ed04-0f43-4796-d6ce-b716127629bb"
      },
      "execution_count": 11,
      "outputs": [
        {
          "output_type": "execute_result",
          "data": {
            "text/plain": [
              "(300,)"
            ]
          },
          "metadata": {},
          "execution_count": 11
        }
      ]
    },
    {
      "cell_type": "code",
      "source": [
        "wv['Soccer']"
      ],
      "metadata": {
        "colab": {
          "base_uri": "https://localhost:8080/"
        },
        "collapsed": true,
        "id": "Jk1SPsm4wTCt",
        "outputId": "04f54fe6-9d3c-4ee5-f4b4-f65b3c30afec"
      },
      "execution_count": 12,
      "outputs": [
        {
          "output_type": "execute_result",
          "data": {
            "text/plain": [
              "array([-6.54296875e-02, -6.53076172e-03,  2.19726562e-01, -4.23828125e-01,\n",
              "       -1.16699219e-01, -2.08007812e-01,  2.25585938e-01, -2.05078125e-01,\n",
              "        5.41992188e-02, -3.39355469e-02, -5.39550781e-02,  1.12304688e-01,\n",
              "       -1.75781250e-01,  1.31835938e-01,  1.18164062e-01,  2.69775391e-02,\n",
              "        1.60156250e-01,  4.14062500e-01,  1.32812500e-01,  2.48718262e-03,\n",
              "        4.05273438e-02,  4.94140625e-01, -1.87683105e-03, -1.88476562e-01,\n",
              "        2.23632812e-01,  1.06933594e-01,  2.19726562e-01,  1.98242188e-01,\n",
              "        2.07031250e-01,  1.14746094e-01, -9.96093750e-02,  6.22558594e-02,\n",
              "       -2.16796875e-01, -2.04101562e-01, -5.20019531e-02, -1.98242188e-01,\n",
              "        2.01171875e-01, -2.65625000e-01, -3.16406250e-01,  1.52343750e-01,\n",
              "       -1.43554688e-01, -1.88476562e-01,  1.42578125e-01,  1.20605469e-01,\n",
              "        6.10351562e-02, -1.93359375e-01,  3.92578125e-01, -2.06054688e-01,\n",
              "       -1.45507812e-01,  3.67187500e-01, -1.20605469e-01,  3.06396484e-02,\n",
              "        1.45507812e-01,  1.65039062e-01,  1.06933594e-01, -3.90625000e-01,\n",
              "        4.60815430e-03, -2.46093750e-01, -1.48437500e-01, -4.53125000e-01,\n",
              "       -3.76953125e-01, -3.18359375e-01, -3.24218750e-01,  1.86523438e-01,\n",
              "        3.44238281e-02, -2.87109375e-01, -7.56835938e-03, -1.21093750e-01,\n",
              "        1.68945312e-01, -1.08398438e-01,  2.85156250e-01,  1.34765625e-01,\n",
              "       -2.17773438e-01, -1.10351562e-01,  1.62109375e-01, -6.49414062e-02,\n",
              "        1.33789062e-01, -2.50000000e-01,  4.45312500e-01, -8.20312500e-02,\n",
              "       -1.70898438e-01,  3.73535156e-02, -2.48046875e-01,  1.72119141e-02,\n",
              "       -4.27246094e-02, -4.06250000e-01, -9.37500000e-02,  4.47265625e-01,\n",
              "       -4.24804688e-02, -2.09960938e-01,  3.17382812e-02, -1.40625000e-01,\n",
              "        6.73828125e-02, -9.71679688e-02,  1.61132812e-01,  1.04980469e-01,\n",
              "        3.39355469e-02,  9.13085938e-02, -1.72851562e-01,  3.92578125e-01,\n",
              "        6.54296875e-02,  1.08032227e-02,  2.53906250e-01,  3.02124023e-03,\n",
              "        2.98828125e-01,  3.35937500e-01,  2.69531250e-01, -3.96484375e-01,\n",
              "       -2.81250000e-01, -1.72851562e-01,  3.14453125e-01, -8.11767578e-03,\n",
              "        1.20605469e-01, -3.90625000e-01,  1.40625000e-01,  3.33984375e-01,\n",
              "       -3.66210938e-02,  3.06640625e-01, -1.85546875e-01, -1.66015625e-01,\n",
              "        7.12890625e-02, -3.12500000e-01,  7.03125000e-02, -1.36718750e-01,\n",
              "       -2.08007812e-01,  1.05957031e-01, -5.82031250e-01,  2.09960938e-01,\n",
              "       -2.75390625e-01,  7.01904297e-03,  2.02148438e-01, -4.17968750e-01,\n",
              "       -2.08984375e-01, -5.00000000e-01, -4.05273438e-02, -1.77734375e-01,\n",
              "       -4.55078125e-01,  1.64062500e-01,  5.81054688e-02,  1.34765625e-01,\n",
              "       -2.56347656e-02, -1.80664062e-02,  6.25000000e-02, -1.14746094e-01,\n",
              "        2.33398438e-01,  3.37890625e-01,  2.96875000e-01, -1.53808594e-02,\n",
              "        2.35351562e-01, -2.85156250e-01,  5.51757812e-02,  6.25000000e-02,\n",
              "       -2.61718750e-01, -1.77734375e-01, -2.53906250e-01,  1.56250000e-01,\n",
              "       -4.34570312e-02, -1.92382812e-01, -3.06640625e-01, -1.62109375e-01,\n",
              "        2.77343750e-01, -1.00585938e-01,  5.54199219e-02, -2.19726562e-01,\n",
              "        4.69207764e-04,  4.54101562e-02,  1.96533203e-02, -3.78417969e-02,\n",
              "       -4.68750000e-02, -5.41992188e-02,  5.59082031e-02,  2.20703125e-01,\n",
              "        7.53784180e-03, -9.08203125e-02,  1.77734375e-01,  7.32421875e-02,\n",
              "       -3.02734375e-02, -3.80859375e-02, -3.39355469e-02,  5.02929688e-02,\n",
              "        9.91210938e-02,  1.01074219e-01, -2.23632812e-01, -4.07714844e-02,\n",
              "       -4.71191406e-02,  2.02148438e-01,  8.34960938e-02,  2.67578125e-01,\n",
              "        7.03125000e-02,  1.49414062e-01, -7.86132812e-02, -1.57470703e-02,\n",
              "        1.25976562e-01,  1.67236328e-02, -4.55078125e-01,  7.81250000e-03,\n",
              "        1.24023438e-01,  2.31445312e-01, -2.83203125e-01, -3.69140625e-01,\n",
              "       -1.12792969e-01, -1.73828125e-01,  7.86132812e-02, -1.31835938e-01,\n",
              "        2.72216797e-02, -3.88671875e-01,  1.00585938e-01, -1.80664062e-01,\n",
              "       -4.63867188e-02, -1.52587891e-03, -8.20312500e-02,  2.12890625e-01,\n",
              "        6.78710938e-02,  4.16015625e-01, -1.90429688e-01, -1.19628906e-01,\n",
              "        1.81884766e-02,  1.52343750e-01, -2.00195312e-01, -1.91406250e-01,\n",
              "       -6.34765625e-02, -1.57226562e-01, -4.71191406e-02,  2.01171875e-01,\n",
              "       -1.19628906e-01,  1.85546875e-01,  1.64062500e-01, -4.27246094e-02,\n",
              "       -7.86132812e-02, -7.22656250e-02,  8.15429688e-02,  1.66992188e-01,\n",
              "       -1.16699219e-01,  6.05468750e-02,  1.66015625e-01,  9.21630859e-03,\n",
              "        1.29882812e-01, -3.20312500e-01, -7.86132812e-02, -2.10937500e-01,\n",
              "       -8.54492188e-02, -2.65625000e-01,  1.40625000e-01, -3.08593750e-01,\n",
              "       -9.08203125e-02, -5.37109375e-03, -4.02343750e-01,  1.95312500e-01,\n",
              "       -5.97656250e-01,  3.53515625e-01,  3.66210938e-02,  1.09863281e-01,\n",
              "       -1.25122070e-03,  2.16796875e-01,  3.26171875e-01,  2.15820312e-01,\n",
              "       -1.05468750e-01, -2.87109375e-01, -4.14062500e-01,  2.17773438e-01,\n",
              "        2.55859375e-01,  5.46875000e-02,  2.69531250e-01,  2.07031250e-01,\n",
              "        1.18652344e-01,  1.45507812e-01, -6.67968750e-01,  6.68945312e-02,\n",
              "        2.11181641e-02, -9.17968750e-02, -3.20312500e-01,  3.32031250e-01,\n",
              "       -1.76757812e-01, -3.02734375e-01,  1.98242188e-01, -2.31445312e-01,\n",
              "        4.95605469e-02, -6.83593750e-02,  1.44531250e-01,  2.74658203e-02,\n",
              "       -2.16796875e-01,  1.12792969e-01, -1.99890137e-03, -1.15722656e-01,\n",
              "       -3.35693359e-03, -1.66992188e-01, -8.10546875e-02, -1.28173828e-02,\n",
              "        2.88085938e-02,  1.22070312e-01, -8.54492188e-02, -4.08203125e-01,\n",
              "       -6.88476562e-02, -1.83868408e-03,  1.48437500e-01,  4.62890625e-01,\n",
              "        2.00195312e-01, -2.52685547e-02, -3.61328125e-01,  7.27539062e-02],\n",
              "      dtype=float32)"
            ]
          },
          "metadata": {},
          "execution_count": 12
        }
      ]
    },
    {
      "cell_type": "code",
      "source": [
        "wv.most_similar('Soccer')"
      ],
      "metadata": {
        "colab": {
          "base_uri": "https://localhost:8080/"
        },
        "id": "yss2PNq9wfl1",
        "outputId": "aae6dc77-5519-4fcd-ffcc-97cf90a54ab3"
      },
      "execution_count": 13,
      "outputs": [
        {
          "output_type": "execute_result",
          "data": {
            "text/plain": [
              "[('soccer', 0.7622618079185486),\n",
              " ('Football', 0.7229189276695251),\n",
              " ('Lacrosse', 0.7092606425285339),\n",
              " ('Youth_Soccer', 0.6637541651725769),\n",
              " ('Volleyball', 0.6585472226142883),\n",
              " ('Basketball', 0.6463674306869507),\n",
              " ('Softball', 0.6419784426689148),\n",
              " ('Baseball', 0.6195278167724609),\n",
              " ('SOCCER', 0.6015186905860901),\n",
              " ('Soccer_Federation', 0.5930034518241882)]"
            ]
          },
          "metadata": {},
          "execution_count": 13
        }
      ]
    },
    {
      "cell_type": "code",
      "source": [
        "wv.most_similar('japanese')"
      ],
      "metadata": {
        "colab": {
          "base_uri": "https://localhost:8080/"
        },
        "id": "JhJ4xXfDwoKd",
        "outputId": "31448d80-684f-49bc-f0b1-9942bef51716"
      },
      "execution_count": 21,
      "outputs": [
        {
          "output_type": "execute_result",
          "data": {
            "text/plain": [
              "[('japan', 0.6607722640037537),\n",
              " ('chinese', 0.6502296328544617),\n",
              " ('Japanese', 0.6149079203605652),\n",
              " ('korean', 0.6051569581031799),\n",
              " ('german', 0.5999272465705872),\n",
              " ('american', 0.5906798839569092),\n",
              " ('asian', 0.5839767456054688),\n",
              " ('san', 0.583475649356842),\n",
              " ('jap', 0.5764404535293579),\n",
              " ('swedish', 0.5720360279083252)]"
            ]
          },
          "metadata": {},
          "execution_count": 21
        }
      ]
    },
    {
      "cell_type": "code",
      "source": [
        "wv.similarity('anime','japanese')"
      ],
      "metadata": {
        "colab": {
          "base_uri": "https://localhost:8080/"
        },
        "id": "SIrWivr7w1ub",
        "outputId": "6f70f3ce-6c75-4a9f-db7c-f8fc0a8eefd4"
      },
      "execution_count": 20,
      "outputs": [
        {
          "output_type": "execute_result",
          "data": {
            "text/plain": [
              "0.47347075"
            ]
          },
          "metadata": {},
          "execution_count": 20
        }
      ]
    },
    {
      "cell_type": "code",
      "source": [
        "wv.similarity('anime','manga')"
      ],
      "metadata": {
        "colab": {
          "base_uri": "https://localhost:8080/"
        },
        "id": "23_r1YR-xBqV",
        "outputId": "1d180cef-b761-4dce-eac0-99a7032a046c"
      },
      "execution_count": 19,
      "outputs": [
        {
          "output_type": "execute_result",
          "data": {
            "text/plain": [
              "0.8085124"
            ]
          },
          "metadata": {},
          "execution_count": 19
        }
      ]
    },
    {
      "cell_type": "markdown",
      "source": [
        "### ***Corpus***\n",
        "\n",
        "---\n",
        "\n",
        "\n",
        "\n",
        "---\n",
        "\n"
      ],
      "metadata": {
        "id": "On9esMaH2V44"
      }
    },
    {
      "cell_type": "code",
      "source": [
        "doc = 'The ancient city of Rome once the heart of a vast empire is a treasure trove of history and culture Its iconic landmarks such as the Colosseum and the Pantheon stand as testaments to the ingenuity and power of its ancient inhabitants'\n"
      ],
      "metadata": {
        "id": "BNMoNLbHxGjt"
      },
      "execution_count": 70,
      "outputs": []
    },
    {
      "cell_type": "code",
      "source": [
        "words = doc.split(' ')"
      ],
      "metadata": {
        "id": "TmJ3HbWtyPlY"
      },
      "execution_count": 71,
      "outputs": []
    },
    {
      "cell_type": "code",
      "source": [
        "words"
      ],
      "metadata": {
        "colab": {
          "base_uri": "https://localhost:8080/"
        },
        "collapsed": true,
        "id": "a1oEMHNOyecs",
        "outputId": "36b39df5-8a0f-4c0a-fc06-1a1efc1af113"
      },
      "execution_count": 72,
      "outputs": [
        {
          "output_type": "execute_result",
          "data": {
            "text/plain": [
              "['The',\n",
              " 'ancient',\n",
              " 'city',\n",
              " 'of',\n",
              " 'Rome',\n",
              " 'once',\n",
              " 'the',\n",
              " 'heart',\n",
              " 'of',\n",
              " 'a',\n",
              " 'vast',\n",
              " 'empire',\n",
              " 'is',\n",
              " 'a',\n",
              " 'treasure',\n",
              " 'trove',\n",
              " 'of',\n",
              " 'history',\n",
              " 'and',\n",
              " 'culture',\n",
              " 'Its',\n",
              " 'iconic',\n",
              " 'landmarks',\n",
              " 'such',\n",
              " 'as',\n",
              " 'the',\n",
              " 'Colosseum',\n",
              " 'and',\n",
              " 'the',\n",
              " 'Pantheon',\n",
              " 'stand',\n",
              " 'as',\n",
              " 'testaments',\n",
              " 'to',\n",
              " 'the',\n",
              " 'ingenuity',\n",
              " 'and',\n",
              " 'power',\n",
              " 'of',\n",
              " 'its',\n",
              " 'ancient',\n",
              " 'inhabitants']"
            ]
          },
          "metadata": {},
          "execution_count": 72
        }
      ]
    },
    {
      "cell_type": "markdown",
      "source": [
        "### ***STOP WORDS***\n",
        "\n",
        "---\n",
        "\n",
        "\n",
        "\n",
        "---\n",
        "\n"
      ],
      "metadata": {
        "id": "EsTdoQD-2aUY"
      }
    },
    {
      "cell_type": "code",
      "source": [
        "import nltk\n",
        "nltk.download('stopwords')"
      ],
      "metadata": {
        "colab": {
          "base_uri": "https://localhost:8080/"
        },
        "id": "r5F0U1ZzzeMq",
        "outputId": "1102a6c5-8705-4a1e-c0ac-d554767e169b"
      },
      "execution_count": 73,
      "outputs": [
        {
          "output_type": "stream",
          "name": "stderr",
          "text": [
            "[nltk_data] Downloading package stopwords to /root/nltk_data...\n",
            "[nltk_data]   Package stopwords is already up-to-date!\n"
          ]
        },
        {
          "output_type": "execute_result",
          "data": {
            "text/plain": [
              "True"
            ]
          },
          "metadata": {},
          "execution_count": 73
        }
      ]
    },
    {
      "cell_type": "code",
      "source": [
        "from nltk.corpus import stopwords\n",
        "\n",
        "stopWords = stopwords.words('english')"
      ],
      "metadata": {
        "id": "wrXfuf4a0KN6"
      },
      "execution_count": 74,
      "outputs": []
    },
    {
      "cell_type": "code",
      "source": [
        "wordsFiltered = [w for w in words if w not in stopWords]\n",
        "wordsFiltered\n"
      ],
      "metadata": {
        "colab": {
          "base_uri": "https://localhost:8080/"
        },
        "id": "Tem5Txlo0XKa",
        "outputId": "0670975b-d629-48c3-b06b-15985dfcdecf"
      },
      "execution_count": 75,
      "outputs": [
        {
          "output_type": "execute_result",
          "data": {
            "text/plain": [
              "['The',\n",
              " 'ancient',\n",
              " 'city',\n",
              " 'Rome',\n",
              " 'heart',\n",
              " 'vast',\n",
              " 'empire',\n",
              " 'treasure',\n",
              " 'trove',\n",
              " 'history',\n",
              " 'culture',\n",
              " 'Its',\n",
              " 'iconic',\n",
              " 'landmarks',\n",
              " 'Colosseum',\n",
              " 'Pantheon',\n",
              " 'stand',\n",
              " 'testaments',\n",
              " 'ingenuity',\n",
              " 'power',\n",
              " 'ancient',\n",
              " 'inhabitants']"
            ]
          },
          "metadata": {},
          "execution_count": 75
        }
      ]
    },
    {
      "cell_type": "markdown",
      "source": [
        "### ***LEMMATIZER***\n",
        "\n",
        "---\n",
        "\n",
        "\n",
        "\n",
        "---\n",
        "\n"
      ],
      "metadata": {
        "id": "eCeFYwZD2hpJ"
      }
    },
    {
      "cell_type": "code",
      "source": [
        "from nltk.stem import WordNetLemmatizer\n",
        "nltk.download('wordnet')\n",
        "lemmatizer = WordNetLemmatizer()"
      ],
      "metadata": {
        "colab": {
          "base_uri": "https://localhost:8080/"
        },
        "id": "royrjY3x0qYh",
        "outputId": "61f7a595-3e32-444c-e95c-62073998babb"
      },
      "execution_count": 76,
      "outputs": [
        {
          "output_type": "stream",
          "name": "stderr",
          "text": [
            "[nltk_data] Downloading package wordnet to /root/nltk_data...\n",
            "[nltk_data]   Package wordnet is already up-to-date!\n"
          ]
        }
      ]
    },
    {
      "cell_type": "code",
      "source": [
        "lemmatized_words = []\n",
        "for word in wordsFiltered:\n",
        "    lemma = lemmatizer.lemmatize(word)\n",
        "    lemmatized_words.append(lemma)\n",
        "\n",
        "print(lemmatized_words)"
      ],
      "metadata": {
        "colab": {
          "base_uri": "https://localhost:8080/"
        },
        "id": "56q3neJl0zKR",
        "outputId": "11c714b1-b20d-4642-fe86-5cbdeb1a6168"
      },
      "execution_count": 77,
      "outputs": [
        {
          "output_type": "stream",
          "name": "stdout",
          "text": [
            "['The', 'ancient', 'city', 'Rome', 'heart', 'vast', 'empire', 'treasure', 'trove', 'history', 'culture', 'Its', 'iconic', 'landmark', 'Colosseum', 'Pantheon', 'stand', 'testament', 'ingenuity', 'power', 'ancient', 'inhabitant']\n"
          ]
        }
      ]
    },
    {
      "cell_type": "code",
      "source": [
        "vec = wv[lemmatized_words]"
      ],
      "metadata": {
        "id": "ESbR7hmgxi7k"
      },
      "execution_count": 81,
      "outputs": []
    },
    {
      "cell_type": "code",
      "source": [
        "vec.shape"
      ],
      "metadata": {
        "colab": {
          "base_uri": "https://localhost:8080/"
        },
        "id": "wcqT_tGsxv40",
        "outputId": "c060a90e-1dc9-4273-d353-66ab5cc0fd98"
      },
      "execution_count": 82,
      "outputs": [
        {
          "output_type": "execute_result",
          "data": {
            "text/plain": [
              "(22, 300)"
            ]
          },
          "metadata": {},
          "execution_count": 82
        }
      ]
    },
    {
      "cell_type": "code",
      "source": [
        "vec"
      ],
      "metadata": {
        "colab": {
          "base_uri": "https://localhost:8080/"
        },
        "id": "00ubG79Nx0_T",
        "outputId": "1d96d433-01a0-4e32-b865-4fec4a6796c8"
      },
      "execution_count": 83,
      "outputs": [
        {
          "output_type": "execute_result",
          "data": {
            "text/plain": [
              "array([[-0.17285156,  0.27929688,  0.10693359, ...,  0.12304688,\n",
              "         0.12988281, -0.18261719],\n",
              "       [ 0.41210938,  0.29101562,  0.125     , ..., -0.08007812,\n",
              "         0.08642578,  0.15136719],\n",
              "       [-0.0100708 ,  0.05737305,  0.18359375, ..., -0.12255859,\n",
              "         0.07617188, -0.234375  ],\n",
              "       ...,\n",
              "       [ 0.13769531,  0.1640625 ,  0.22070312, ...,  0.0612793 ,\n",
              "        -0.29296875,  0.04272461],\n",
              "       [ 0.41210938,  0.29101562,  0.125     , ..., -0.08007812,\n",
              "         0.08642578,  0.15136719],\n",
              "       [ 0.35546875, -0.08203125,  0.11328125, ..., -0.203125  ,\n",
              "         0.31640625,  0.08642578]], dtype=float32)"
            ]
          },
          "metadata": {},
          "execution_count": 83
        }
      ]
    },
    {
      "cell_type": "code",
      "source": [
        "wv.most_similar(vec)"
      ],
      "metadata": {
        "colab": {
          "base_uri": "https://localhost:8080/"
        },
        "id": "N7HS0IMC2SWJ",
        "outputId": "c6e2f8db-efef-4e79-d621-e587bbee0207"
      },
      "execution_count": 84,
      "outputs": [
        {
          "output_type": "execute_result",
          "data": {
            "text/plain": [
              "[('Archeologists_unearth', 0.6815624237060547),\n",
              " ('ancient', 0.6628085970878601),\n",
              " ('Archaeologists_uncover', 0.6339744329452515),\n",
              " ('medieval_monasteries', 0.6192808747291565),\n",
              " ('Treasure_trove', 0.6127492785453796),\n",
              " ('archaeologists_unearth', 0.6121519804000854),\n",
              " ('Archaeologists_unearth', 0.6089631915092468),\n",
              " ('Nazca_civilization', 0.606341540813446),\n",
              " ('Roman_aqueducts', 0.5997545719146729),\n",
              " ('Dig_unearths', 0.5979952216148376)]"
            ]
          },
          "metadata": {},
          "execution_count": 84
        }
      ]
    }
  ]
}